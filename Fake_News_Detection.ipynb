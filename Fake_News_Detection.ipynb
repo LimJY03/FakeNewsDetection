{
  "nbformat": 4,
  "nbformat_minor": 0,
  "metadata": {
    "colab": {
      "provenance": []
    },
    "kernelspec": {
      "name": "python3",
      "display_name": "Python 3"
    },
    "language_info": {
      "name": "python"
    }
  },
  "cells": [
    {
      "cell_type": "markdown",
      "source": [
        "# Fake News Detection\n",
        "\n",
        "In this notebook, we will try to identify and detect fake news using Machine Learning.\n",
        "\n",
        "![news_img](https://images.unsplash.com/photo-1529243856184-fd5465488984?ixlib=rb-4.0.3&ixid=MnwxMjA3fDB8MHxwaG90by1wYWdlfHx8fGVufDB8fHx8&auto=format&fit=crop&w=1492&q=80)Image by Hayden Walker from Unsplash.com\n",
        "\n"
      ],
      "metadata": {
        "id": "6nz_IgIWQjK-"
      }
    },
    {
      "cell_type": "markdown",
      "source": [
        "## About This Notebook\n",
        "\n",
        "This `ipynb` is run on [Google Colab](https://colab.research.google.com/?utm_source=scs-index) as the IDE contains multiple built-in libraries such as `pandas` and many more. It also runs on LinuxOS, which allows more functions that a WinOS user cannot work with.\n",
        "\n",
        "[Link to the Colab Notebook](https://colab.research.google.com/drive/1fV0mmB0jlo6Xb_zfQ1Jk5gqbb8TopZHF?usp=sharing)"
      ],
      "metadata": {
        "id": "m4GvW7nTWxKM"
      }
    },
    {
      "cell_type": "markdown",
      "source": [
        "## About The Project\n",
        "\n",
        "This Machine Learning project is inspired by [DataFlair](https://data-flair.training/blogs/machine-learning-datasets/)'s article: **Machine Learning Datasets for Data Science Beginners**. \n",
        "\n",
        "Below is their Project Idea suggestion:\n",
        "\n",
        "> \"*Build a fake news detection model with Passive Aggressive Classifier algorithm. The Passive Aggressive algorithm can classify massive streams of data, it can be implemented quickly.*\"\n",
        "\n",
        "---"
      ],
      "metadata": {
        "id": "LSLfh-4PWwkW"
      }
    },
    {
      "cell_type": "markdown",
      "source": [
        "# Theory\n",
        "\n",
        "Before we start working with our data and train a ML model, we will go through some key theories first."
      ],
      "metadata": {
        "id": "ucEZJll9aDmW"
      }
    },
    {
      "cell_type": "markdown",
      "source": [
        "## What is Fake News\n",
        "\n",
        "> \"*Fake news is false or misleading information presented as news. Fake news often has the aim of damaging the reputation of a person or entity, or making money through advertising revenue*\"\n",
        "> \n",
        "> **Source: [Wikipedia](https://en.wikipedia.org/wiki/Fake_news)**\n",
        "\n",
        "Such news items may contain false and/or exaggerated claims, and may end up being viralized by algorithms, and users may end up in a filter bubble. So it is important for us to know which news are fake and properly avoid reading it."
      ],
      "metadata": {
        "id": "8ivWBtt96JtB"
      }
    },
    {
      "cell_type": "markdown",
      "source": [
        "## What is Passive Aggressive Classifier\n",
        "\n",
        "Passive Aggressive Classifier algorithm is an **Online Learning** (not the online learning we know) Algorithm, which means that it can update its weights as new data comes in. \n",
        "\n",
        "In each iteration during learning, the classifier looks at a new instance, assesses whether it has been correctly classified or not, and then updates its weights accordingly:\n",
        "\n",
        "* If the instance is correctly classified, there is no change in weight.\n",
        "* if it is misclassified, the algorithm adjusts its weights to better classify future instances based on this misclassified instance.\n",
        "\n",
        "Read more on Passive Aggressive Classifier [here](https://vitalflux.com/passive-aggressive-classifier-concepts-examples/)."
      ],
      "metadata": {
        "id": "FZSk2bRE7Mcw"
      }
    },
    {
      "cell_type": "markdown",
      "source": [
        "## TF-IDF Vectorizer\n",
        "\n",
        "TF-IDF (Term Frequency - Inverse Document Frequency) is a text vectorizer that transforms the text into a usable vector.\n",
        "\n",
        "* Term Frequency is the number of **occurrences** of a specific term in a document.\n",
        "    * It indicates how **important** a specific term is.\n",
        "* Document Frequency is the number of **documents** containing a specific term.\n",
        "    * It indicates how **common** a specific term is.\n",
        "    * We will use it to determine which terms are more common in real news and fake news.\n",
        "* **Inverse** Document Frequency is the weight of a term, it aims to reduce the weight of a term if the term's occurence scattered throughout all the documents.\n",
        "\n",
        "Read more on TF-IDF Vectorizer [here](https://medium.com/@cmukesh8688/tf-idf-vectorizer-scikit-learn-dbc0244a911a)."
      ],
      "metadata": {
        "id": "KHLEI5pFKY-s"
      }
    },
    {
      "cell_type": "markdown",
      "source": [
        "# Set Up\n",
        "\n",
        "Typically, we will need to install some dependencies before using them in our module.\n",
        "\n",
        "```bash\n",
        "pip install numpy pandas matplotlib sklearn\n",
        "```\n",
        "\n",
        "But since this notebook is written in Google Colab, the modules are preinstalled for us.\n",
        "\n",
        "We will first clone the GitHub repository to access the data sets needed in model training. Link to the GitHub repository at [here](https://github.com/LimJY03/FakeNewsDetection)."
      ],
      "metadata": {
        "id": "tNVlOImv-pHq"
      }
    },
    {
      "cell_type": "code",
      "execution_count": 1,
      "metadata": {
        "id": "E_IreXBzQajm",
        "colab": {
          "base_uri": "https://localhost:8080/"
        },
        "outputId": "9bd9a4b1-0055-4097-f4a4-8752cf6a186d"
      },
      "outputs": [
        {
          "output_type": "stream",
          "name": "stdout",
          "text": [
            "Cloning into 'FakeNewsDetection'...\n",
            "remote: Enumerating objects: 12, done.\u001b[K\n",
            "remote: Counting objects: 100% (12/12), done.\u001b[K\n",
            "remote: Compressing objects: 100% (7/7), done.\u001b[K\n",
            "remote: Total 12 (delta 2), reused 8 (delta 1), pack-reused 0\u001b[K\n",
            "Unpacking objects: 100% (12/12), done.\n"
          ]
        }
      ],
      "source": [
        "!git clone https://github.com/LimJY03/FakeNewsDetection"
      ]
    },
    {
      "cell_type": "markdown",
      "source": [
        "## Importing Modules\n",
        "\n",
        "For this notebook, we will need the following modules:"
      ],
      "metadata": {
        "id": "mqzjG-BiJYrq"
      }
    },
    {
      "cell_type": "code",
      "source": [
        "import numpy as np\n",
        "import pandas as pd\n",
        "import matplotlib.pyplot as plt\n",
        "\n",
        "from sklearn.model_selection import train_test_split\n",
        "from sklearn.linear_model import PassiveAggressiveClassifier\n",
        "from sklearn.feature_extraction.text import TfidfVectorizer\n",
        "from sklearn.metrics import accuracy_score, confusion_matrix, ConfusionMatrixDisplay"
      ],
      "metadata": {
        "id": "emrXHyHMJiAy"
      },
      "execution_count": 2,
      "outputs": []
    },
    {
      "cell_type": "markdown",
      "source": [
        "## Importing News Data Set\n",
        "\n",
        "Now we will load our data set into a Pandas Data Frame:"
      ],
      "metadata": {
        "id": "7JZtAMgXL-5x"
      }
    },
    {
      "cell_type": "code",
      "source": [
        "news_df = pd.read_csv('./FakeNewsDetection/data/data.csv')"
      ],
      "metadata": {
        "id": "GNrZkwwqMHDd"
      },
      "execution_count": 3,
      "outputs": []
    },
    {
      "cell_type": "markdown",
      "source": [
        "---"
      ],
      "metadata": {
        "id": "qADyEzZ4MiPC"
      }
    },
    {
      "cell_type": "markdown",
      "source": [
        "# Data Exploration\n",
        "\n",
        "We will now explore our data set. We will start by looking at some preview and details of our data:"
      ],
      "metadata": {
        "id": "coeyBy0sMqkA"
      }
    },
    {
      "cell_type": "code",
      "source": [
        "news_df.head()"
      ],
      "metadata": {
        "colab": {
          "base_uri": "https://localhost:8080/",
          "height": 206
        },
        "id": "kSpkSFh_MpqJ",
        "outputId": "115f1b02-1cfc-424b-c94d-4cf288750337"
      },
      "execution_count": 4,
      "outputs": [
        {
          "output_type": "execute_result",
          "data": {
            "text/plain": [
              "   Unnamed: 0                                              title  \\\n",
              "0        8476                       You Can Smell Hillary’s Fear   \n",
              "1       10294  Watch The Exact Moment Paul Ryan Committed Pol...   \n",
              "2        3608        Kerry to go to Paris in gesture of sympathy   \n",
              "3       10142  Bernie supporters on Twitter erupt in anger ag...   \n",
              "4         875   The Battle of New York: Why This Primary Matters   \n",
              "\n",
              "                                                text label  \n",
              "0  Daniel Greenfield, a Shillman Journalism Fello...  FAKE  \n",
              "1  Google Pinterest Digg Linkedin Reddit Stumbleu...  FAKE  \n",
              "2  U.S. Secretary of State John F. Kerry said Mon...  REAL  \n",
              "3  — Kaydee King (@KaydeeKing) November 9, 2016 T...  FAKE  \n",
              "4  It's primary day in New York and front-runners...  REAL  "
            ],
            "text/html": [
              "\n",
              "  <div id=\"df-da6d41d5-8a15-4716-b80b-d597fb8c85d8\">\n",
              "    <div class=\"colab-df-container\">\n",
              "      <div>\n",
              "<style scoped>\n",
              "    .dataframe tbody tr th:only-of-type {\n",
              "        vertical-align: middle;\n",
              "    }\n",
              "\n",
              "    .dataframe tbody tr th {\n",
              "        vertical-align: top;\n",
              "    }\n",
              "\n",
              "    .dataframe thead th {\n",
              "        text-align: right;\n",
              "    }\n",
              "</style>\n",
              "<table border=\"1\" class=\"dataframe\">\n",
              "  <thead>\n",
              "    <tr style=\"text-align: right;\">\n",
              "      <th></th>\n",
              "      <th>Unnamed: 0</th>\n",
              "      <th>title</th>\n",
              "      <th>text</th>\n",
              "      <th>label</th>\n",
              "    </tr>\n",
              "  </thead>\n",
              "  <tbody>\n",
              "    <tr>\n",
              "      <th>0</th>\n",
              "      <td>8476</td>\n",
              "      <td>You Can Smell Hillary’s Fear</td>\n",
              "      <td>Daniel Greenfield, a Shillman Journalism Fello...</td>\n",
              "      <td>FAKE</td>\n",
              "    </tr>\n",
              "    <tr>\n",
              "      <th>1</th>\n",
              "      <td>10294</td>\n",
              "      <td>Watch The Exact Moment Paul Ryan Committed Pol...</td>\n",
              "      <td>Google Pinterest Digg Linkedin Reddit Stumbleu...</td>\n",
              "      <td>FAKE</td>\n",
              "    </tr>\n",
              "    <tr>\n",
              "      <th>2</th>\n",
              "      <td>3608</td>\n",
              "      <td>Kerry to go to Paris in gesture of sympathy</td>\n",
              "      <td>U.S. Secretary of State John F. Kerry said Mon...</td>\n",
              "      <td>REAL</td>\n",
              "    </tr>\n",
              "    <tr>\n",
              "      <th>3</th>\n",
              "      <td>10142</td>\n",
              "      <td>Bernie supporters on Twitter erupt in anger ag...</td>\n",
              "      <td>— Kaydee King (@KaydeeKing) November 9, 2016 T...</td>\n",
              "      <td>FAKE</td>\n",
              "    </tr>\n",
              "    <tr>\n",
              "      <th>4</th>\n",
              "      <td>875</td>\n",
              "      <td>The Battle of New York: Why This Primary Matters</td>\n",
              "      <td>It's primary day in New York and front-runners...</td>\n",
              "      <td>REAL</td>\n",
              "    </tr>\n",
              "  </tbody>\n",
              "</table>\n",
              "</div>\n",
              "      <button class=\"colab-df-convert\" onclick=\"convertToInteractive('df-da6d41d5-8a15-4716-b80b-d597fb8c85d8')\"\n",
              "              title=\"Convert this dataframe to an interactive table.\"\n",
              "              style=\"display:none;\">\n",
              "        \n",
              "  <svg xmlns=\"http://www.w3.org/2000/svg\" height=\"24px\"viewBox=\"0 0 24 24\"\n",
              "       width=\"24px\">\n",
              "    <path d=\"M0 0h24v24H0V0z\" fill=\"none\"/>\n",
              "    <path d=\"M18.56 5.44l.94 2.06.94-2.06 2.06-.94-2.06-.94-.94-2.06-.94 2.06-2.06.94zm-11 1L8.5 8.5l.94-2.06 2.06-.94-2.06-.94L8.5 2.5l-.94 2.06-2.06.94zm10 10l.94 2.06.94-2.06 2.06-.94-2.06-.94-.94-2.06-.94 2.06-2.06.94z\"/><path d=\"M17.41 7.96l-1.37-1.37c-.4-.4-.92-.59-1.43-.59-.52 0-1.04.2-1.43.59L10.3 9.45l-7.72 7.72c-.78.78-.78 2.05 0 2.83L4 21.41c.39.39.9.59 1.41.59.51 0 1.02-.2 1.41-.59l7.78-7.78 2.81-2.81c.8-.78.8-2.07 0-2.86zM5.41 20L4 18.59l7.72-7.72 1.47 1.35L5.41 20z\"/>\n",
              "  </svg>\n",
              "      </button>\n",
              "      \n",
              "  <style>\n",
              "    .colab-df-container {\n",
              "      display:flex;\n",
              "      flex-wrap:wrap;\n",
              "      gap: 12px;\n",
              "    }\n",
              "\n",
              "    .colab-df-convert {\n",
              "      background-color: #E8F0FE;\n",
              "      border: none;\n",
              "      border-radius: 50%;\n",
              "      cursor: pointer;\n",
              "      display: none;\n",
              "      fill: #1967D2;\n",
              "      height: 32px;\n",
              "      padding: 0 0 0 0;\n",
              "      width: 32px;\n",
              "    }\n",
              "\n",
              "    .colab-df-convert:hover {\n",
              "      background-color: #E2EBFA;\n",
              "      box-shadow: 0px 1px 2px rgba(60, 64, 67, 0.3), 0px 1px 3px 1px rgba(60, 64, 67, 0.15);\n",
              "      fill: #174EA6;\n",
              "    }\n",
              "\n",
              "    [theme=dark] .colab-df-convert {\n",
              "      background-color: #3B4455;\n",
              "      fill: #D2E3FC;\n",
              "    }\n",
              "\n",
              "    [theme=dark] .colab-df-convert:hover {\n",
              "      background-color: #434B5C;\n",
              "      box-shadow: 0px 1px 3px 1px rgba(0, 0, 0, 0.15);\n",
              "      filter: drop-shadow(0px 1px 2px rgba(0, 0, 0, 0.3));\n",
              "      fill: #FFFFFF;\n",
              "    }\n",
              "  </style>\n",
              "\n",
              "      <script>\n",
              "        const buttonEl =\n",
              "          document.querySelector('#df-da6d41d5-8a15-4716-b80b-d597fb8c85d8 button.colab-df-convert');\n",
              "        buttonEl.style.display =\n",
              "          google.colab.kernel.accessAllowed ? 'block' : 'none';\n",
              "\n",
              "        async function convertToInteractive(key) {\n",
              "          const element = document.querySelector('#df-da6d41d5-8a15-4716-b80b-d597fb8c85d8');\n",
              "          const dataTable =\n",
              "            await google.colab.kernel.invokeFunction('convertToInteractive',\n",
              "                                                     [key], {});\n",
              "          if (!dataTable) return;\n",
              "\n",
              "          const docLinkHtml = 'Like what you see? Visit the ' +\n",
              "            '<a target=\"_blank\" href=https://colab.research.google.com/notebooks/data_table.ipynb>data table notebook</a>'\n",
              "            + ' to learn more about interactive tables.';\n",
              "          element.innerHTML = '';\n",
              "          dataTable['output_type'] = 'display_data';\n",
              "          await google.colab.output.renderOutput(dataTable, element);\n",
              "          const docLink = document.createElement('div');\n",
              "          docLink.innerHTML = docLinkHtml;\n",
              "          element.appendChild(docLink);\n",
              "        }\n",
              "      </script>\n",
              "    </div>\n",
              "  </div>\n",
              "  "
            ]
          },
          "metadata": {},
          "execution_count": 4
        }
      ]
    },
    {
      "cell_type": "code",
      "source": [
        "news_df.columns"
      ],
      "metadata": {
        "colab": {
          "base_uri": "https://localhost:8080/"
        },
        "id": "WDX0A52CNQ4i",
        "outputId": "c145abe5-92cb-43c4-9346-d02d6d8db0a3"
      },
      "execution_count": 5,
      "outputs": [
        {
          "output_type": "execute_result",
          "data": {
            "text/plain": [
              "Index(['Unnamed: 0', 'title', 'text', 'label'], dtype='object')"
            ]
          },
          "metadata": {},
          "execution_count": 5
        }
      ]
    },
    {
      "cell_type": "code",
      "source": [
        "print('Dataframe Shape:', news_df.shape)\n",
        "print('Unique Values in [Unnamed: 0]:', news_df['Unnamed: 0'].unique().size)"
      ],
      "metadata": {
        "colab": {
          "base_uri": "https://localhost:8080/"
        },
        "id": "wNImCcqpNb43",
        "outputId": "aade9fa9-ff1b-421b-8893-316726fbcf9d"
      },
      "execution_count": 6,
      "outputs": [
        {
          "output_type": "stream",
          "name": "stdout",
          "text": [
            "Dataframe Shape: (6335, 4)\n",
            "Unique Values in [Unnamed: 0]: 6335\n"
          ]
        }
      ]
    },
    {
      "cell_type": "markdown",
      "source": [
        "Looks like all values in this `Unnamed: 0` column are unique, although it might not be useful for our model training, let's assign a name `id` to it:\n",
        "\n"
      ],
      "metadata": {
        "id": "RKwkMXkFO3yF"
      }
    },
    {
      "cell_type": "code",
      "source": [
        "news_df.columns = ['id', 'title', 'content', 'label']\n",
        "news_df.head()"
      ],
      "metadata": {
        "colab": {
          "base_uri": "https://localhost:8080/",
          "height": 206
        },
        "id": "esFnVyQaRk-w",
        "outputId": "44ed5847-2161-40ee-ab51-15ee8783afe3"
      },
      "execution_count": 7,
      "outputs": [
        {
          "output_type": "execute_result",
          "data": {
            "text/plain": [
              "      id                                              title  \\\n",
              "0   8476                       You Can Smell Hillary’s Fear   \n",
              "1  10294  Watch The Exact Moment Paul Ryan Committed Pol...   \n",
              "2   3608        Kerry to go to Paris in gesture of sympathy   \n",
              "3  10142  Bernie supporters on Twitter erupt in anger ag...   \n",
              "4    875   The Battle of New York: Why This Primary Matters   \n",
              "\n",
              "                                             content label  \n",
              "0  Daniel Greenfield, a Shillman Journalism Fello...  FAKE  \n",
              "1  Google Pinterest Digg Linkedin Reddit Stumbleu...  FAKE  \n",
              "2  U.S. Secretary of State John F. Kerry said Mon...  REAL  \n",
              "3  — Kaydee King (@KaydeeKing) November 9, 2016 T...  FAKE  \n",
              "4  It's primary day in New York and front-runners...  REAL  "
            ],
            "text/html": [
              "\n",
              "  <div id=\"df-ec06f5ff-bc42-4482-8927-31cd9f033673\">\n",
              "    <div class=\"colab-df-container\">\n",
              "      <div>\n",
              "<style scoped>\n",
              "    .dataframe tbody tr th:only-of-type {\n",
              "        vertical-align: middle;\n",
              "    }\n",
              "\n",
              "    .dataframe tbody tr th {\n",
              "        vertical-align: top;\n",
              "    }\n",
              "\n",
              "    .dataframe thead th {\n",
              "        text-align: right;\n",
              "    }\n",
              "</style>\n",
              "<table border=\"1\" class=\"dataframe\">\n",
              "  <thead>\n",
              "    <tr style=\"text-align: right;\">\n",
              "      <th></th>\n",
              "      <th>id</th>\n",
              "      <th>title</th>\n",
              "      <th>content</th>\n",
              "      <th>label</th>\n",
              "    </tr>\n",
              "  </thead>\n",
              "  <tbody>\n",
              "    <tr>\n",
              "      <th>0</th>\n",
              "      <td>8476</td>\n",
              "      <td>You Can Smell Hillary’s Fear</td>\n",
              "      <td>Daniel Greenfield, a Shillman Journalism Fello...</td>\n",
              "      <td>FAKE</td>\n",
              "    </tr>\n",
              "    <tr>\n",
              "      <th>1</th>\n",
              "      <td>10294</td>\n",
              "      <td>Watch The Exact Moment Paul Ryan Committed Pol...</td>\n",
              "      <td>Google Pinterest Digg Linkedin Reddit Stumbleu...</td>\n",
              "      <td>FAKE</td>\n",
              "    </tr>\n",
              "    <tr>\n",
              "      <th>2</th>\n",
              "      <td>3608</td>\n",
              "      <td>Kerry to go to Paris in gesture of sympathy</td>\n",
              "      <td>U.S. Secretary of State John F. Kerry said Mon...</td>\n",
              "      <td>REAL</td>\n",
              "    </tr>\n",
              "    <tr>\n",
              "      <th>3</th>\n",
              "      <td>10142</td>\n",
              "      <td>Bernie supporters on Twitter erupt in anger ag...</td>\n",
              "      <td>— Kaydee King (@KaydeeKing) November 9, 2016 T...</td>\n",
              "      <td>FAKE</td>\n",
              "    </tr>\n",
              "    <tr>\n",
              "      <th>4</th>\n",
              "      <td>875</td>\n",
              "      <td>The Battle of New York: Why This Primary Matters</td>\n",
              "      <td>It's primary day in New York and front-runners...</td>\n",
              "      <td>REAL</td>\n",
              "    </tr>\n",
              "  </tbody>\n",
              "</table>\n",
              "</div>\n",
              "      <button class=\"colab-df-convert\" onclick=\"convertToInteractive('df-ec06f5ff-bc42-4482-8927-31cd9f033673')\"\n",
              "              title=\"Convert this dataframe to an interactive table.\"\n",
              "              style=\"display:none;\">\n",
              "        \n",
              "  <svg xmlns=\"http://www.w3.org/2000/svg\" height=\"24px\"viewBox=\"0 0 24 24\"\n",
              "       width=\"24px\">\n",
              "    <path d=\"M0 0h24v24H0V0z\" fill=\"none\"/>\n",
              "    <path d=\"M18.56 5.44l.94 2.06.94-2.06 2.06-.94-2.06-.94-.94-2.06-.94 2.06-2.06.94zm-11 1L8.5 8.5l.94-2.06 2.06-.94-2.06-.94L8.5 2.5l-.94 2.06-2.06.94zm10 10l.94 2.06.94-2.06 2.06-.94-2.06-.94-.94-2.06-.94 2.06-2.06.94z\"/><path d=\"M17.41 7.96l-1.37-1.37c-.4-.4-.92-.59-1.43-.59-.52 0-1.04.2-1.43.59L10.3 9.45l-7.72 7.72c-.78.78-.78 2.05 0 2.83L4 21.41c.39.39.9.59 1.41.59.51 0 1.02-.2 1.41-.59l7.78-7.78 2.81-2.81c.8-.78.8-2.07 0-2.86zM5.41 20L4 18.59l7.72-7.72 1.47 1.35L5.41 20z\"/>\n",
              "  </svg>\n",
              "      </button>\n",
              "      \n",
              "  <style>\n",
              "    .colab-df-container {\n",
              "      display:flex;\n",
              "      flex-wrap:wrap;\n",
              "      gap: 12px;\n",
              "    }\n",
              "\n",
              "    .colab-df-convert {\n",
              "      background-color: #E8F0FE;\n",
              "      border: none;\n",
              "      border-radius: 50%;\n",
              "      cursor: pointer;\n",
              "      display: none;\n",
              "      fill: #1967D2;\n",
              "      height: 32px;\n",
              "      padding: 0 0 0 0;\n",
              "      width: 32px;\n",
              "    }\n",
              "\n",
              "    .colab-df-convert:hover {\n",
              "      background-color: #E2EBFA;\n",
              "      box-shadow: 0px 1px 2px rgba(60, 64, 67, 0.3), 0px 1px 3px 1px rgba(60, 64, 67, 0.15);\n",
              "      fill: #174EA6;\n",
              "    }\n",
              "\n",
              "    [theme=dark] .colab-df-convert {\n",
              "      background-color: #3B4455;\n",
              "      fill: #D2E3FC;\n",
              "    }\n",
              "\n",
              "    [theme=dark] .colab-df-convert:hover {\n",
              "      background-color: #434B5C;\n",
              "      box-shadow: 0px 1px 3px 1px rgba(0, 0, 0, 0.15);\n",
              "      filter: drop-shadow(0px 1px 2px rgba(0, 0, 0, 0.3));\n",
              "      fill: #FFFFFF;\n",
              "    }\n",
              "  </style>\n",
              "\n",
              "      <script>\n",
              "        const buttonEl =\n",
              "          document.querySelector('#df-ec06f5ff-bc42-4482-8927-31cd9f033673 button.colab-df-convert');\n",
              "        buttonEl.style.display =\n",
              "          google.colab.kernel.accessAllowed ? 'block' : 'none';\n",
              "\n",
              "        async function convertToInteractive(key) {\n",
              "          const element = document.querySelector('#df-ec06f5ff-bc42-4482-8927-31cd9f033673');\n",
              "          const dataTable =\n",
              "            await google.colab.kernel.invokeFunction('convertToInteractive',\n",
              "                                                     [key], {});\n",
              "          if (!dataTable) return;\n",
              "\n",
              "          const docLinkHtml = 'Like what you see? Visit the ' +\n",
              "            '<a target=\"_blank\" href=https://colab.research.google.com/notebooks/data_table.ipynb>data table notebook</a>'\n",
              "            + ' to learn more about interactive tables.';\n",
              "          element.innerHTML = '';\n",
              "          dataTable['output_type'] = 'display_data';\n",
              "          await google.colab.output.renderOutput(dataTable, element);\n",
              "          const docLink = document.createElement('div');\n",
              "          docLink.innerHTML = docLinkHtml;\n",
              "          element.appendChild(docLink);\n",
              "        }\n",
              "      </script>\n",
              "    </div>\n",
              "  </div>\n",
              "  "
            ]
          },
          "metadata": {},
          "execution_count": 7
        }
      ]
    },
    {
      "cell_type": "markdown",
      "source": [
        "We will also check if there are `NaN` values in our data:"
      ],
      "metadata": {
        "id": "bKzuIstuN_nK"
      }
    },
    {
      "cell_type": "code",
      "source": [
        "news_df.isna().sum()"
      ],
      "metadata": {
        "colab": {
          "base_uri": "https://localhost:8080/"
        },
        "id": "IjfZZhQKOLLM",
        "outputId": "8f2ecef1-cb1b-4ddd-bac3-24b707ffefd7"
      },
      "execution_count": 8,
      "outputs": [
        {
          "output_type": "execute_result",
          "data": {
            "text/plain": [
              "id         0\n",
              "title      0\n",
              "content    0\n",
              "label      0\n",
              "dtype: int64"
            ]
          },
          "metadata": {},
          "execution_count": 8
        }
      ]
    },
    {
      "cell_type": "markdown",
      "source": [
        "It looks like our data is already clean, so we can now start with our model training.\n",
        "\n",
        "---"
      ],
      "metadata": {
        "id": "2aak0nxkOdvh"
      }
    },
    {
      "cell_type": "markdown",
      "source": [
        "# Model Training\n",
        "\n",
        "We will start training our model with the data above. We will start by defining our feature columns and label column:"
      ],
      "metadata": {
        "id": "YADhRQoLpjAt"
      }
    },
    {
      "cell_type": "code",
      "source": [
        "feature_col = news_df['content']\n",
        "label_col = news_df['label']"
      ],
      "metadata": {
        "id": "QwRgBEf5ONhX"
      },
      "execution_count": 9,
      "outputs": []
    },
    {
      "cell_type": "markdown",
      "source": [
        "We will now split our data sets into training data and validation data, then we will perform data transformations:"
      ],
      "metadata": {
        "id": "adIb1j6xqMgr"
      }
    },
    {
      "cell_type": "code",
      "source": [
        "# Train test split\n",
        "X_train, X_test, y_train, y_test = train_test_split(feature_col, label_col, train_size=0.2, random_state=1)\n",
        "\n",
        "# Initialize TF-IDF vectorizer\n",
        "tfidf_vectorizer = TfidfVectorizer(stop_words='english', max_df=0.7)"
      ],
      "metadata": {
        "id": "ydg2zQtMqLT1"
      },
      "execution_count": 10,
      "outputs": []
    },
    {
      "cell_type": "markdown",
      "source": [
        "Below are some explanations on the `TfidfVectorizer` arguments:\n",
        "\n",
        "* We use `stop_words='english'` to denote that we will be using the English language as our [stop words](https://en.wikipedia.org/wiki/Stop_word).\n",
        "* We also use `max_df=0.7` to denote that the words that appear in more than 70% of all documents will be discarded."
      ],
      "metadata": {
        "id": "5JFfeOeuxJ06"
      }
    },
    {
      "cell_type": "code",
      "source": [
        "# Data transformation\n",
        "X_train = tfidf_vectorizer.fit_transform(X_train)\n",
        "X_test = tfidf_vectorizer.transform(X_test)"
      ],
      "metadata": {
        "id": "iqLVH5eHyIAV"
      },
      "execution_count": 11,
      "outputs": []
    },
    {
      "cell_type": "markdown",
      "source": [
        "Moving on we will be fitting our Passive Aggressive Classifier with the data, and then make our prediction:"
      ],
      "metadata": {
        "id": "beQGoDvAG9p7"
      }
    },
    {
      "cell_type": "code",
      "source": [
        "# Initialize Passive Aggressive classifier\n",
        "pac = PassiveAggressiveClassifier(max_iter=50)\n",
        "\n",
        "# Model fitting\n",
        "pac.fit(X_train, y_train)\n",
        "\n",
        "# Model prediction\n",
        "y_pred = pac.predict(X_test)"
      ],
      "metadata": {
        "id": "FjsKiS-yHSwv"
      },
      "execution_count": 12,
      "outputs": []
    },
    {
      "cell_type": "markdown",
      "source": [
        "---"
      ],
      "metadata": {
        "id": "CoV8Qzm5M-j0"
      }
    },
    {
      "cell_type": "markdown",
      "source": [
        "# Model Evaluation\n",
        "\n",
        "In this section, we will evaluate our model:"
      ],
      "metadata": {
        "id": "zC5FiBFUIzyT"
      }
    },
    {
      "cell_type": "code",
      "source": [
        "score = accuracy_score(y_pred, y_test)\n",
        "print(f'Accuracy Score: {round(score * 100, 2)}%')"
      ],
      "metadata": {
        "colab": {
          "base_uri": "https://localhost:8080/"
        },
        "id": "ie3yLx5zJ8GP",
        "outputId": "47798b16-7a25-4b26-9001-0f62998eb44c"
      },
      "execution_count": 13,
      "outputs": [
        {
          "output_type": "stream",
          "name": "stdout",
          "text": [
            "Accuracy Score: 91.36%\n"
          ]
        }
      ]
    },
    {
      "cell_type": "markdown",
      "source": [
        "This time, we got an accuracy score of 91.36% using this model. Lastly, we will look more on our model's performance through the [confusion matrix](https://en.wikipedia.org/wiki/Confusion_matrix):"
      ],
      "metadata": {
        "id": "cZxuDXQCHE97"
      }
    },
    {
      "cell_type": "code",
      "source": [
        "cm = confusion_matrix(y_test, y_pred, labels=['REAL', 'FAKE'])\n",
        "cm_display = ConfusionMatrixDisplay(confusion_matrix=cm)\n",
        "\n",
        "# Plot the confusion matrix\n",
        "cm_display.plot()\n",
        "plt.show()"
      ],
      "metadata": {
        "colab": {
          "base_uri": "https://localhost:8080/",
          "height": 279
        },
        "id": "I7BxgtVWHPM-",
        "outputId": "fc7dc91b-2d59-4ec8-d7c5-852f386021d6"
      },
      "execution_count": 14,
      "outputs": [
        {
          "output_type": "display_data",
          "data": {
            "text/plain": [
              "<Figure size 432x288 with 2 Axes>"
            ],
            "image/png": "[encoded data removed]"
          },
          "metadata": {
            "needs_background": "light"
          }
        }
      ]
    },
    {
      "cell_type": "markdown",
      "source": [
        "With the confusion_matrix shown above, we can evaluate that this model is able to detect **2320** real news (True Negative) and identify **2310** fake news (True Positive) correctly. However, the model failed to properly identify **438** news (False Negative + False Positive).\n",
        "\n",
        "Some other performance metrics are as below:\n",
        "\n",
        "* [Precision](https://en.wikipedia.org/wiki/Precision_and_recall#Precision) of model: 92.36%\n",
        "* [Recall](https://en.wikipedia.org/wiki/Precision_and_recall#Recall) of model: 90.34%\n",
        "\n",
        "---"
      ],
      "metadata": {
        "id": "64bP5AP6KPsK"
      }
    },
    {
      "cell_type": "markdown",
      "source": [
        "# Conclusion\n",
        "\n",
        "In this notebook, we have learnt to use the **TF-IDF (Term Frequency - Inverse Document Frequency) Vectorizer** to determine the frequency of each English words in our data set. In this lab, we will discard words that appear more than 70% of all documents.\n",
        "\n",
        "We also learnt to use the **Passive Aggressive Classifier** to classify our data set into two classes: Fake Data and Real Data. We use this classifier as it will autotune the model while validating if the classification is correct.\n",
        "\n",
        "Finally, we use the **Confusion Matrix** and the **Precision-Recall** metrics to evaluate our model performance based on its predictions."
      ],
      "metadata": {
        "id": "HgR7eZt-Ngn6"
      }
    }
  ]
}